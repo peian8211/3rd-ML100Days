{
 "cells": [
  {
   "cell_type": "markdown",
   "metadata": {},
   "source": [
    "## Work\n",
    "1. 請嘗試寫一個 callback 用來記錄各類別在訓練過程中，對驗證集的 True Positive 與 True Negative"
   ]
  },
  {
   "cell_type": "code",
   "execution_count": 1,
   "metadata": {},
   "outputs": [
    {
     "name": "stderr",
     "output_type": "stream",
     "text": [
      "Using TensorFlow backend.\n"
     ]
    }
   ],
   "source": [
    "import os\n",
    "import keras\n",
    "from keras.layers import BatchNormalization\n",
    "from keras.callbacks import ModelCheckpoint\n",
    "\n",
    "# Disable GPU\n",
    "os.environ['CUDA_VISIBLE_DEVICES'] = ''\n",
    "os.environ['KMP_DUPLICATE_LIB_OK'] = 'TRUE'"
   ]
  },
  {
   "cell_type": "code",
   "execution_count": 2,
   "metadata": {},
   "outputs": [],
   "source": [
    "train, test = keras.datasets.cifar10.load_data()"
   ]
  },
  {
   "cell_type": "code",
   "execution_count": 3,
   "metadata": {},
   "outputs": [],
   "source": [
    "## 資料前處理\n",
    "def preproc_x(x, flatten=True):\n",
    "    x = x / 255.\n",
    "    if flatten:\n",
    "        x = x.reshape((len(x), -1))\n",
    "    return x\n",
    "\n",
    "def preproc_y(y, num_classes=10):\n",
    "    if y.shape[-1] == 1:\n",
    "        y = keras.utils.to_categorical(y, num_classes)\n",
    "    return y    "
   ]
  },
  {
   "cell_type": "code",
   "execution_count": 4,
   "metadata": {},
   "outputs": [],
   "source": [
    "x_train, y_train = train\n",
    "x_test, y_test = test\n",
    "\n",
    "# Preproc the inputs\n",
    "x_train = preproc_x(x_train)\n",
    "x_test = preproc_x(x_test)\n",
    "\n",
    "# Preprc the outputs\n",
    "y_train = preproc_y(y_train)\n",
    "y_test = preproc_y(y_test)"
   ]
  },
  {
   "cell_type": "code",
   "execution_count": 5,
   "metadata": {},
   "outputs": [],
   "source": [
    "def build_mlp(input_shape, output_units=10, num_neurons=[512, 256, 128]):\n",
    "    \n",
    "    input_layer = keras.layers.Input(input_shape)\n",
    "    \n",
    "    for i, n_units in enumerate(num_neurons):\n",
    "        if i == 0:\n",
    "            x = keras.layers.Dense(units=n_units, \n",
    "                                   activation='relu', \n",
    "                                   name='hidden_layer'+str(i+1))(input_layer)\n",
    "            x = BatchNormalization()(x)\n",
    "        else:\n",
    "            x = keras.layers.Dense(units=n_units, \n",
    "                                   activation='relu', \n",
    "                                   name='hidden_layer'+str(i+1))(x)\n",
    "            x = BatchNormalization()(x)\n",
    "    \n",
    "    out = keras.layers.Dense(units=output_units, activation='softmax', name='output')(x)\n",
    "    \n",
    "    model = keras.models.Model(inputs=[input_layer], outputs=[out])\n",
    "    return model"
   ]
  },
  {
   "cell_type": "code",
   "execution_count": 6,
   "metadata": {},
   "outputs": [],
   "source": [
    "## 超參數設定\n",
    "LEARNING_RATE = 1e-3\n",
    "EPOCHS = 25\n",
    "BATCH_SIZE = 1024\n",
    "MOMENTUM = 0.95"
   ]
  },
  {
   "cell_type": "code",
   "execution_count": 7,
   "metadata": {},
   "outputs": [],
   "source": [
    "# 載入 Callbacks\n",
    "from keras.callbacks import Callback\n",
    "from sklearn.metrics import multilabel_confusion_matrix\n",
    "\n",
    "# Record_fp_tp\n",
    "class Record_tp_tn(Callback):\n",
    "    def on_train_begin(self, epoch, logs = {}):\n",
    "        logs = logs or {}\n",
    "        record_items = ['val_tp', 'val_tn']\n",
    "        for i in record_items:\n",
    "            if i not in self.params['metrics']:\n",
    "                self.params['metrics'].append(i)\n",
    "    \n",
    "    def on_epoch_end(self, epoch, logs = {}, thres=0.5):\n",
    "        logs = logs or {}\n",
    "        y_true = self.validation_data[1].argmax(axis = 1)\n",
    "        y_pred = self.model.predict(self.validation_data[0])\n",
    "        y_pred = (y_pred[:, 1] >= thres) * 1\n",
    "        \n",
    "        mconfu = multilabel_confusion_matrix(y_true, y_pred)\n",
    "        \n",
    "        logs['val_tp'] = mconfu[:, 1, 1]\n",
    "        logs['val_tn'] = mconfu[:, 0, 0]\n",
    "        \n",
    "rec_tptn = Record_tp_tn()"
   ]
  },
  {
   "cell_type": "code",
   "execution_count": 8,
   "metadata": {
    "scrolled": false
   },
   "outputs": [
    {
     "name": "stdout",
     "output_type": "stream",
     "text": [
      "WARNING:tensorflow:From /opt/anaconda3/lib/python3.7/site-packages/keras/backend/tensorflow_backend.py:74: The name tf.get_default_graph is deprecated. Please use tf.compat.v1.get_default_graph instead.\n",
      "\n",
      "WARNING:tensorflow:From /opt/anaconda3/lib/python3.7/site-packages/keras/backend/tensorflow_backend.py:517: The name tf.placeholder is deprecated. Please use tf.compat.v1.placeholder instead.\n",
      "\n",
      "WARNING:tensorflow:From /opt/anaconda3/lib/python3.7/site-packages/keras/backend/tensorflow_backend.py:4138: The name tf.random_uniform is deprecated. Please use tf.random.uniform instead.\n",
      "\n",
      "WARNING:tensorflow:From /opt/anaconda3/lib/python3.7/site-packages/keras/backend/tensorflow_backend.py:133: The name tf.placeholder_with_default is deprecated. Please use tf.compat.v1.placeholder_with_default instead.\n",
      "\n",
      "_________________________________________________________________\n",
      "Layer (type)                 Output Shape              Param #   \n",
      "=================================================================\n",
      "input_1 (InputLayer)         (None, 3072)              0         \n",
      "_________________________________________________________________\n",
      "hidden_layer1 (Dense)        (None, 512)               1573376   \n",
      "_________________________________________________________________\n",
      "batch_normalization_1 (Batch (None, 512)               2048      \n",
      "_________________________________________________________________\n",
      "hidden_layer2 (Dense)        (None, 256)               131328    \n",
      "_________________________________________________________________\n",
      "batch_normalization_2 (Batch (None, 256)               1024      \n",
      "_________________________________________________________________\n",
      "hidden_layer3 (Dense)        (None, 128)               32896     \n",
      "_________________________________________________________________\n",
      "batch_normalization_3 (Batch (None, 128)               512       \n",
      "_________________________________________________________________\n",
      "output (Dense)               (None, 10)                1290      \n",
      "=================================================================\n",
      "Total params: 1,742,474\n",
      "Trainable params: 1,740,682\n",
      "Non-trainable params: 1,792\n",
      "_________________________________________________________________\n",
      "WARNING:tensorflow:From /opt/anaconda3/lib/python3.7/site-packages/keras/optimizers.py:790: The name tf.train.Optimizer is deprecated. Please use tf.compat.v1.train.Optimizer instead.\n",
      "\n",
      "WARNING:tensorflow:From /opt/anaconda3/lib/python3.7/site-packages/keras/backend/tensorflow_backend.py:3295: The name tf.log is deprecated. Please use tf.math.log instead.\n",
      "\n",
      "WARNING:tensorflow:From /opt/anaconda3/lib/python3.7/site-packages/tensorflow_core/python/ops/math_grad.py:1424: where (from tensorflow.python.ops.array_ops) is deprecated and will be removed in a future version.\n",
      "Instructions for updating:\n",
      "Use tf.where in 2.0, which has the same broadcast rule as np.where\n",
      "WARNING:tensorflow:From /opt/anaconda3/lib/python3.7/site-packages/keras/backend/tensorflow_backend.py:986: The name tf.assign_add is deprecated. Please use tf.compat.v1.assign_add instead.\n",
      "\n",
      "WARNING:tensorflow:From /opt/anaconda3/lib/python3.7/site-packages/keras/backend/tensorflow_backend.py:973: The name tf.assign is deprecated. Please use tf.compat.v1.assign instead.\n",
      "\n",
      "WARNING:tensorflow:From /opt/anaconda3/lib/python3.7/site-packages/keras/backend/tensorflow_backend.py:2741: The name tf.Session is deprecated. Please use tf.compat.v1.Session instead.\n",
      "\n",
      "Train on 50000 samples, validate on 10000 samples\n",
      "Epoch 1/25\n",
      "WARNING:tensorflow:From /opt/anaconda3/lib/python3.7/site-packages/keras/backend/tensorflow_backend.py:174: The name tf.get_default_session is deprecated. Please use tf.compat.v1.get_default_session instead.\n",
      "\n",
      "WARNING:tensorflow:From /opt/anaconda3/lib/python3.7/site-packages/keras/backend/tensorflow_backend.py:181: The name tf.ConfigProto is deprecated. Please use tf.compat.v1.ConfigProto instead.\n",
      "\n",
      "WARNING:tensorflow:From /opt/anaconda3/lib/python3.7/site-packages/keras/backend/tensorflow_backend.py:190: The name tf.global_variables is deprecated. Please use tf.compat.v1.global_variables instead.\n",
      "\n",
      "WARNING:tensorflow:From /opt/anaconda3/lib/python3.7/site-packages/keras/backend/tensorflow_backend.py:199: The name tf.is_variable_initialized is deprecated. Please use tf.compat.v1.is_variable_initialized instead.\n",
      "\n",
      "WARNING:tensorflow:From /opt/anaconda3/lib/python3.7/site-packages/keras/backend/tensorflow_backend.py:206: The name tf.variables_initializer is deprecated. Please use tf.compat.v1.variables_initializer instead.\n",
      "\n",
      "50000/50000 [==============================] - 17s 335us/step - loss: 2.2080 - acc: 0.2652 - val_loss: 2.1103 - val_acc: 0.3167\n",
      "Epoch 2/25\n",
      "50000/50000 [==============================] - 9s 181us/step - loss: 1.7492 - acc: 0.3878 - val_loss: 1.7818 - val_acc: 0.3842\n",
      "Epoch 3/25\n",
      "50000/50000 [==============================] - 9s 185us/step - loss: 1.6271 - acc: 0.4299 - val_loss: 1.6829 - val_acc: 0.4124\n",
      "Epoch 4/25\n",
      "50000/50000 [==============================] - 9s 186us/step - loss: 1.5560 - acc: 0.4547 - val_loss: 1.6626 - val_acc: 0.4201\n",
      "Epoch 5/25\n",
      "50000/50000 [==============================] - 9s 187us/step - loss: 1.5002 - acc: 0.4768 - val_loss: 1.5916 - val_acc: 0.4397\n",
      "Epoch 6/25\n",
      "50000/50000 [==============================] - 9s 188us/step - loss: 1.4547 - acc: 0.4912 - val_loss: 1.5674 - val_acc: 0.4516\n",
      "Epoch 7/25\n",
      "50000/50000 [==============================] - 9s 188us/step - loss: 1.4160 - acc: 0.5054 - val_loss: 1.5504 - val_acc: 0.4556\n",
      "Epoch 8/25\n",
      "50000/50000 [==============================] - 9s 188us/step - loss: 1.3792 - acc: 0.5197 - val_loss: 1.5419 - val_acc: 0.4583\n",
      "Epoch 9/25\n",
      "50000/50000 [==============================] - 9s 186us/step - loss: 1.3481 - acc: 0.5315 - val_loss: 1.5282 - val_acc: 0.4650\n",
      "Epoch 10/25\n",
      "50000/50000 [==============================] - 9s 186us/step - loss: 1.3180 - acc: 0.5436 - val_loss: 1.5196 - val_acc: 0.4661\n",
      "Epoch 11/25\n",
      "50000/50000 [==============================] - 10s 192us/step - loss: 1.2892 - acc: 0.5540 - val_loss: 1.5093 - val_acc: 0.4734\n",
      "Epoch 12/25\n",
      "50000/50000 [==============================] - 11s 211us/step - loss: 1.2640 - acc: 0.5634 - val_loss: 1.5052 - val_acc: 0.4775\n",
      "Epoch 13/25\n",
      "50000/50000 [==============================] - 9s 187us/step - loss: 1.2367 - acc: 0.5746 - val_loss: 1.4879 - val_acc: 0.4769\n",
      "Epoch 14/25\n",
      "50000/50000 [==============================] - 10s 194us/step - loss: 1.2139 - acc: 0.5831 - val_loss: 1.4888 - val_acc: 0.4740\n",
      "Epoch 15/25\n",
      "50000/50000 [==============================] - 10s 208us/step - loss: 1.1883 - acc: 0.5934 - val_loss: 1.4712 - val_acc: 0.4831\n",
      "Epoch 16/25\n",
      "50000/50000 [==============================] - 10s 192us/step - loss: 1.1659 - acc: 0.6002 - val_loss: 1.4864 - val_acc: 0.4780\n",
      "Epoch 17/25\n",
      "50000/50000 [==============================] - 11s 222us/step - loss: 1.1435 - acc: 0.6086 - val_loss: 1.4644 - val_acc: 0.4862\n",
      "Epoch 18/25\n",
      "50000/50000 [==============================] - 10s 198us/step - loss: 1.1196 - acc: 0.6197 - val_loss: 1.4769 - val_acc: 0.4849\n",
      "Epoch 19/25\n",
      "50000/50000 [==============================] - 9s 185us/step - loss: 1.0974 - acc: 0.6265 - val_loss: 1.4656 - val_acc: 0.4833\n",
      "Epoch 20/25\n",
      "50000/50000 [==============================] - 9s 178us/step - loss: 1.0756 - acc: 0.6364 - val_loss: 1.4732 - val_acc: 0.4833\n",
      "Epoch 21/25\n",
      "50000/50000 [==============================] - 10s 192us/step - loss: 1.0529 - acc: 0.6443 - val_loss: 1.4632 - val_acc: 0.4874\n",
      "Epoch 22/25\n",
      "50000/50000 [==============================] - 9s 184us/step - loss: 1.0302 - acc: 0.6529 - val_loss: 1.4606 - val_acc: 0.4905\n",
      "Epoch 23/25\n",
      "50000/50000 [==============================] - 9s 184us/step - loss: 1.0091 - acc: 0.6614 - val_loss: 1.4673 - val_acc: 0.4879\n",
      "Epoch 24/25\n",
      "50000/50000 [==============================] - 9s 184us/step - loss: 0.9890 - acc: 0.6694 - val_loss: 1.4620 - val_acc: 0.4910\n",
      "Epoch 25/25\n",
      "50000/50000 [==============================] - 9s 185us/step - loss: 0.9685 - acc: 0.6752 - val_loss: 1.4802 - val_acc: 0.4904\n"
     ]
    }
   ],
   "source": [
    "model = build_mlp(input_shape=x_train.shape[1:])\n",
    "model.summary()\n",
    "optimizer = keras.optimizers.SGD(lr=LEARNING_RATE, nesterov=True, momentum=MOMENTUM)\n",
    "model.compile(loss='categorical_crossentropy', metrics=['accuracy'], optimizer=optimizer)\n",
    "\n",
    "model.fit(x_train, y_train, \n",
    "          epochs=EPOCHS, \n",
    "          batch_size=BATCH_SIZE, \n",
    "          validation_data=(x_test, y_test), \n",
    "          shuffle=True,\n",
    "          callbacks=[rec_tptn]\n",
    "         )\n",
    "\n",
    "# Collect results\n",
    "train_loss = model.history.history['loss']\n",
    "valid_loss = model.history.history['val_loss']\n",
    "train_acc = model.history.history['acc']\n",
    "valid_acc = model.history.history['val_acc']\n",
    "\n",
    "valid_tp = model.history.history['val_tp']\n",
    "valid_tn = model.history.history['val_tn']"
   ]
  },
  {
   "cell_type": "code",
   "execution_count": 9,
   "metadata": {},
   "outputs": [
    {
     "data": {
      "image/png": "[encoded data removed]",
      "text/plain": [
       "<Figure size 432x288 with 1 Axes>"
      ]
     },
     "metadata": {
      "needs_background": "light"
     },
     "output_type": "display_data"
    },
    {
     "data": {
      "image/png": "[encoded data removed]",
      "text/plain": [
       "<Figure size 432x288 with 1 Axes>"
      ]
     },
     "metadata": {
      "needs_background": "light"
     },
     "output_type": "display_data"
    },
    {
     "data": {
      "image/png": "[encoded data removed]",
      "text/plain": [
       "<Figure size 432x288 with 1 Axes>"
      ]
     },
     "metadata": {
      "needs_background": "light"
     },
     "output_type": "display_data"
    }
   ],
   "source": [
    "import matplotlib.pyplot as plt\n",
    "%matplotlib inline\n",
    "\n",
    "plt.plot(range(len(train_loss)), train_loss, label='train loss')\n",
    "plt.plot(range(len(valid_loss)), valid_loss, label='valid loss')\n",
    "plt.legend()\n",
    "plt.title('Loss')\n",
    "plt.show()\n",
    "\n",
    "plt.plot(range(len(train_acc)), train_acc, label='train accuracy')\n",
    "plt.plot(range(len(valid_acc)), valid_acc, label='valid accuracy')\n",
    "plt.legend()\n",
    "plt.title('Accuracy')\n",
    "plt.show()\n",
    "\n",
    "plt.plot(range(len(valid_tp)), valid_tp, label='valid tp', color='navy')\n",
    "plt.plot(range(len(valid_tn)), valid_tn, label='valid tn', color='red')\n",
    "plt.legend()\n",
    "plt.title('True positives and True Negatives')\n",
    "plt.show()\n"
   ]
  }
 ],
 "metadata": {
  "kernelspec": {
   "display_name": "Python 3",
   "language": "python",
   "name": "python3"
  },
  "language_info": {
   "codemirror_mode": {
    "name": "ipython",
    "version": 3
   },
   "file_extension": ".py",
   "mimetype": "text/x-python",
   "name": "python",
   "nbconvert_exporter": "python",
   "pygments_lexer": "ipython3",
   "version": "3.7.5"
  }
 },
 "nbformat": 4,
 "nbformat_minor": 2
}
