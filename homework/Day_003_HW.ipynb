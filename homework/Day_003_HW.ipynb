{
 "cells": [
  {
   "cell_type": "markdown",
   "metadata": {},
   "source": [
    "# 作業：\n",
    "試著閱讀一篇文章並分析其目標、方法、資料來源 \n",
    "\n",
    "Reference: [EfficientNet: Improving Accuracy and Efficiency through AutoML and Model Scaling](https://ai.googleblog.com/2019/05/efficientnet-improving-accuracy-and.html)\n",
    "\n",
    "Purpose: To propose a novel model scaling method using compound coefficient to scale up CNNs. It's different from the general approaches that arbitrarily scale network dimensions, such as width, depth and resolution.\n",
    "\n",
    "Method: Under a fixed resource constraint, find the relationship between different scaling dimensions of the baseline network by the grid search. Through this way, we can obtain the scaling coefficient for the each of dimensions, and then reach the target model size using the coefficient to scale up the baseline network."
   ]
  }
 ],
 "metadata": {
  "kernelspec": {
   "display_name": "Python 3",
   "language": "python",
   "name": "python3"
  },
  "language_info": {
   "codemirror_mode": {
    "name": "ipython",
    "version": 3
   },
   "file_extension": ".py",
   "mimetype": "text/x-python",
   "name": "python",
   "nbconvert_exporter": "python",
   "pygments_lexer": "ipython3",
   "version": "3.7.3"
  }
 },
 "nbformat": 4,
 "nbformat_minor": 2
}
