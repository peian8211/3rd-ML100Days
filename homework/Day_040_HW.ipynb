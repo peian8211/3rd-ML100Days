{
 "cells": [
  {
   "cell_type": "markdown",
   "metadata": {},
   "source": [
    "# 練習時間\n",
    "試著使用 sklearn datasets 的其他資料集 (boston, ...)，來訓練自己的線性迴歸模型，並加上適當的正則化來觀察訓練情形。"
   ]
  },
  {
   "cell_type": "code",
   "execution_count": 3,
   "metadata": {},
   "outputs": [],
   "source": [
    "import numpy as np\n",
    "import matplotlib.pyplot as plt\n",
    "from sklearn import datasets, linear_model\n",
    "from sklearn.model_selection import train_test_split\n",
    "from sklearn.metrics import mean_squared_error, r2_score\n",
    "import warnings\n",
    "warnings.filterwarnings('ignore')"
   ]
  },
  {
   "cell_type": "code",
   "execution_count": 6,
   "metadata": {},
   "outputs": [
    {
     "name": "stdout",
     "output_type": "stream",
     "text": [
      "[-1.15966452e-01  4.71249231e-02  8.25980146e-03  3.23404531e+00\n",
      " -1.66865890e+01  3.88410651e+00 -1.08974442e-02 -1.54129540e+00\n",
      "  2.93208309e-01 -1.34059383e-02 -9.06296429e-01  8.80823439e-03\n",
      " -4.57723846e-01]\n",
      "25.41958712682191\n"
     ]
    }
   ],
   "source": [
    "boston = datasets.load_boston()\n",
    "x_train, x_test, y_train, y_test = train_test_split(boston.data, boston.target, test_size = 0.2, random_state = 4)\n",
    "#regression\n",
    "regr = linear_model.LinearRegression()\n",
    "regr.fit(x_train, y_train)\n",
    "y_pred = regr.predict(x_test)\n",
    "print(regr.coef_)\n",
    "print(mean_squared_error(y_test, y_pred))"
   ]
  },
  {
   "cell_type": "code",
   "execution_count": 7,
   "metadata": {},
   "outputs": [
    {
     "name": "stdout",
     "output_type": "stream",
     "text": [
      "[-0.10618872  0.04886351 -0.04536655  1.14953069 -0.          3.82353877\n",
      " -0.02089779 -1.23590613  0.26008876 -0.01517094 -0.74673362  0.00963864\n",
      " -0.49877104]\n",
      "26.452888853604147\n"
     ]
    }
   ],
   "source": [
    "#LASSO\n",
    "lasso = linear_model.Lasso(alpha = 0.1)\n",
    "lasso.fit(x_train, y_train)\n",
    "y_pred_lasso = lasso.predict(x_test)\n",
    "print(lasso.coef_)\n",
    "print(mean_squared_error(y_test, y_pred_lasso))"
   ]
  },
  {
   "cell_type": "code",
   "execution_count": 8,
   "metadata": {},
   "outputs": [
    {
     "name": "stdout",
     "output_type": "stream",
     "text": [
      "[-1.15381303e-01  4.72528249e-02  2.87371589e-03  3.19642306e+00\n",
      " -1.54713824e+01  3.89388927e+00 -1.19943742e-02 -1.52347878e+00\n",
      "  2.90133016e-01 -1.34816989e-02 -8.93679905e-01  8.86599187e-03\n",
      " -4.58983115e-01]\n",
      "25.45521174977981\n"
     ]
    }
   ],
   "source": [
    "#Ridge\n",
    "ridge = linear_model.Ridge(alpha = 0.1)\n",
    "ridge.fit(x_train, y_train)\n",
    "y_pred_ridge = ridge.predict(x_test)\n",
    "print(ridge.coef_)\n",
    "print(mean_squared_error(y_test, y_pred_ridge))"
   ]
  }
 ],
 "metadata": {
  "kernelspec": {
   "display_name": "Python 3",
   "language": "python",
   "name": "python3"
  },
  "language_info": {
   "codemirror_mode": {
    "name": "ipython",
    "version": 3
   },
   "file_extension": ".py",
   "mimetype": "text/x-python",
   "name": "python",
   "nbconvert_exporter": "python",
   "pygments_lexer": "ipython3",
   "version": "3.7.3"
  }
 },
 "nbformat": 4,
 "nbformat_minor": 2
}
