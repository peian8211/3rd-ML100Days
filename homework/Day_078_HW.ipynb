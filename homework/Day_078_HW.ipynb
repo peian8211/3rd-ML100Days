{
 "cells": [
  {
   "cell_type": "markdown",
   "metadata": {},
   "source": [
    "## Work\n",
    "1. 請嘗試將 preproc_x 替換成以每筆資料的 min/max 進行標準化至 -1 ~ 1 間，再進行訓練\n",
    "2. 請嘗試將 mlp 疊更深 (e.g 5~10 層)，進行訓練後觀察 learning curve 的走勢\n",
    "3. (optional) 請改用 GPU 進行訓練 (如果你有 GPU 的話)，比較使用 CPU 與 GPU 的訓練速度"
   ]
  },
  {
   "cell_type": "code",
   "execution_count": 1,
   "metadata": {},
   "outputs": [
    {
     "data": {
      "text/plain": [
       "'\\nYour code here (optional)\\n確認硬體資源\\n'"
      ]
     },
     "execution_count": 1,
     "metadata": {},
     "output_type": "execute_result"
    }
   ],
   "source": [
    "## \n",
    "\"\"\"\n",
    "Your code here (optional)\n",
    "確認硬體資源\n",
    "\"\"\""
   ]
  },
  {
   "cell_type": "code",
   "execution_count": 2,
   "metadata": {},
   "outputs": [
    {
     "name": "stderr",
     "output_type": "stream",
     "text": [
      "Using TensorFlow backend.\n"
     ]
    }
   ],
   "source": [
    "import os\n",
    "import keras\n",
    "# 請嘗試設定 GPU：os.environ\n",
    "os.environ['KMP_DUPLICATE_LIB_OK']='TRUE'"
   ]
  },
  {
   "cell_type": "code",
   "execution_count": 3,
   "metadata": {},
   "outputs": [],
   "source": [
    "train, test = keras.datasets.cifar10.load_data()"
   ]
  },
  {
   "cell_type": "code",
   "execution_count": 4,
   "metadata": {},
   "outputs": [],
   "source": [
    "## 資料前處理\n",
    "def preproc_x(x, flatten=True):\n",
    "    x = (x - x.mean())/(x.max() - x.min())\n",
    "    if flatten:\n",
    "        x = x.reshape((len(x), -1))\n",
    "    return x\n",
    "\n",
    "def preproc_y(y, num_classes=10):\n",
    "    if y.shape[-1] == 1:\n",
    "        y = keras.utils.to_categorical(y, num_classes)\n",
    "    return y"
   ]
  },
  {
   "cell_type": "code",
   "execution_count": 5,
   "metadata": {},
   "outputs": [],
   "source": [
    "x_train, y_train = train\n",
    "x_test, y_test = test\n",
    "\n",
    "# Preproc the inputs\n",
    "x_train = preproc_x(x_train)\n",
    "x_test = preproc_x(x_test)\n",
    "\n",
    "# Preprc the outputs\n",
    "y_train = preproc_y(y_train)\n",
    "y_test = preproc_y(y_test)"
   ]
  },
  {
   "cell_type": "code",
   "execution_count": 6,
   "metadata": {},
   "outputs": [
    {
     "name": "stdout",
     "output_type": "stream",
     "text": [
      "WARNING:tensorflow:From /opt/anaconda3/lib/python3.7/site-packages/keras/backend/tensorflow_backend.py:74: The name tf.get_default_graph is deprecated. Please use tf.compat.v1.get_default_graph instead.\n",
      "\n",
      "WARNING:tensorflow:From /opt/anaconda3/lib/python3.7/site-packages/keras/backend/tensorflow_backend.py:517: The name tf.placeholder is deprecated. Please use tf.compat.v1.placeholder instead.\n",
      "\n",
      "WARNING:tensorflow:From /opt/anaconda3/lib/python3.7/site-packages/keras/backend/tensorflow_backend.py:4138: The name tf.random_uniform is deprecated. Please use tf.random.uniform instead.\n",
      "\n",
      "_________________________________________________________________\n",
      "Layer (type)                 Output Shape              Param #   \n",
      "=================================================================\n",
      "input_1 (InputLayer)         (None, 3072)              0         \n",
      "_________________________________________________________________\n",
      "hidden_layer1 (Dense)        (None, 512)               1573376   \n",
      "_________________________________________________________________\n",
      "hidden_layer2 (Dense)        (None, 256)               131328    \n",
      "_________________________________________________________________\n",
      "hidden_layer3 (Dense)        (None, 128)               32896     \n",
      "_________________________________________________________________\n",
      "hidden_layer4 (Dense)        (None, 64)                8256      \n",
      "_________________________________________________________________\n",
      "hidden_layer5 (Dense)        (None, 32)                2080      \n",
      "_________________________________________________________________\n",
      "hidden_layer6 (Dense)        (None, 16)                528       \n",
      "_________________________________________________________________\n",
      "output (Dense)               (None, 10)                170       \n",
      "=================================================================\n",
      "Total params: 1,748,634\n",
      "Trainable params: 1,748,634\n",
      "Non-trainable params: 0\n",
      "_________________________________________________________________\n"
     ]
    }
   ],
   "source": [
    "\"\"\"Code Here\n",
    "建立你的神經網路\n",
    "\"\"\"\n",
    "def build_mlp(inpute_shape, output_units=10,num_neurous=[512, 256, 128, 64, 32, 16]):\n",
    "    input_layer=keras.layers.Input(inpute_shape)\n",
    "    \n",
    "    for i,n in enumerate(num_neurous):\n",
    "        if i ==0:\n",
    "            x=keras.layers.Dense(units=n, activation='relu',name='hidden_layer'+str(i+1))(input_layer)\n",
    "            \n",
    "        else:\n",
    "            x=keras.layers.Dense(units=n, activation='relu',name='hidden_layer'+str(i+1))(x)\n",
    "        \n",
    "    output_layer=keras.layers.Dense(units=output_units, activation='softmax', name='output')(x)\n",
    "    \n",
    "    model = keras.models.Model(inputs=[input_layer], outputs=[output_layer])    \n",
    "    return model \n",
    "\n",
    "model= build_mlp(inpute_shape=x_train.shape[1:])\n",
    "model.summary()"
   ]
  },
  {
   "cell_type": "code",
   "execution_count": 7,
   "metadata": {},
   "outputs": [],
   "source": [
    "## 超參數設定\n",
    "LEARNING_RATE = 0.001\n",
    "EPOCHS = 100\n",
    "BATCH_SIZE = 256"
   ]
  },
  {
   "cell_type": "code",
   "execution_count": 8,
   "metadata": {},
   "outputs": [
    {
     "name": "stdout",
     "output_type": "stream",
     "text": [
      "WARNING:tensorflow:From /opt/anaconda3/lib/python3.7/site-packages/keras/optimizers.py:790: The name tf.train.Optimizer is deprecated. Please use tf.compat.v1.train.Optimizer instead.\n",
      "\n",
      "WARNING:tensorflow:From /opt/anaconda3/lib/python3.7/site-packages/keras/backend/tensorflow_backend.py:3295: The name tf.log is deprecated. Please use tf.math.log instead.\n",
      "\n"
     ]
    }
   ],
   "source": [
    "optimizer = keras.optimizers.Adam(lr=LEARNING_RATE)\n",
    "model.compile(loss=\"categorical_crossentropy\", metrics=[\"accuracy\"], optimizer=optimizer)"
   ]
  },
  {
   "cell_type": "code",
   "execution_count": 9,
   "metadata": {
    "scrolled": false
   },
   "outputs": [
    {
     "name": "stdout",
     "output_type": "stream",
     "text": [
      "WARNING:tensorflow:From /opt/anaconda3/lib/python3.7/site-packages/tensorflow_core/python/ops/math_grad.py:1424: where (from tensorflow.python.ops.array_ops) is deprecated and will be removed in a future version.\n",
      "Instructions for updating:\n",
      "Use tf.where in 2.0, which has the same broadcast rule as np.where\n",
      "WARNING:tensorflow:From /opt/anaconda3/lib/python3.7/site-packages/keras/backend/tensorflow_backend.py:986: The name tf.assign_add is deprecated. Please use tf.compat.v1.assign_add instead.\n",
      "\n",
      "WARNING:tensorflow:From /opt/anaconda3/lib/python3.7/site-packages/keras/backend/tensorflow_backend.py:973: The name tf.assign is deprecated. Please use tf.compat.v1.assign instead.\n",
      "\n",
      "WARNING:tensorflow:From /opt/anaconda3/lib/python3.7/site-packages/keras/backend/tensorflow_backend.py:2741: The name tf.Session is deprecated. Please use tf.compat.v1.Session instead.\n",
      "\n",
      "Train on 50000 samples, validate on 10000 samples\n",
      "Epoch 1/100\n",
      "WARNING:tensorflow:From /opt/anaconda3/lib/python3.7/site-packages/keras/backend/tensorflow_backend.py:174: The name tf.get_default_session is deprecated. Please use tf.compat.v1.get_default_session instead.\n",
      "\n",
      "WARNING:tensorflow:From /opt/anaconda3/lib/python3.7/site-packages/keras/backend/tensorflow_backend.py:181: The name tf.ConfigProto is deprecated. Please use tf.compat.v1.ConfigProto instead.\n",
      "\n",
      "WARNING:tensorflow:From /opt/anaconda3/lib/python3.7/site-packages/keras/backend/tensorflow_backend.py:190: The name tf.global_variables is deprecated. Please use tf.compat.v1.global_variables instead.\n",
      "\n",
      "WARNING:tensorflow:From /opt/anaconda3/lib/python3.7/site-packages/keras/backend/tensorflow_backend.py:199: The name tf.is_variable_initialized is deprecated. Please use tf.compat.v1.is_variable_initialized instead.\n",
      "\n",
      "WARNING:tensorflow:From /opt/anaconda3/lib/python3.7/site-packages/keras/backend/tensorflow_backend.py:206: The name tf.variables_initializer is deprecated. Please use tf.compat.v1.variables_initializer instead.\n",
      "\n",
      "50000/50000 [==============================] - 19s 382us/step - loss: 1.8128 - acc: 0.3633 - val_loss: 1.6226 - val_acc: 0.4239\n",
      "Epoch 2/100\n",
      "50000/50000 [==============================] - 16s 317us/step - loss: 1.5270 - acc: 0.4644 - val_loss: 1.4638 - val_acc: 0.4799\n",
      "Epoch 3/100\n",
      "50000/50000 [==============================] - 16s 318us/step - loss: 1.3866 - acc: 0.5117 - val_loss: 1.3987 - val_acc: 0.5110\n",
      "Epoch 4/100\n",
      "50000/50000 [==============================] - 16s 320us/step - loss: 1.2838 - acc: 0.5479 - val_loss: 1.4037 - val_acc: 0.5110\n",
      "Epoch 5/100\n",
      "50000/50000 [==============================] - 16s 320us/step - loss: 1.1975 - acc: 0.5806 - val_loss: 1.3407 - val_acc: 0.5278\n",
      "Epoch 6/100\n",
      "50000/50000 [==============================] - 16s 319us/step - loss: 1.1082 - acc: 0.6087 - val_loss: 1.3768 - val_acc: 0.5230\n",
      "Epoch 7/100\n",
      "50000/50000 [==============================] - 16s 322us/step - loss: 1.0371 - acc: 0.6353 - val_loss: 1.3491 - val_acc: 0.5393\n",
      "Epoch 8/100\n",
      "50000/50000 [==============================] - 16s 323us/step - loss: 0.9629 - acc: 0.6583 - val_loss: 1.3778 - val_acc: 0.5321\n",
      "Epoch 9/100\n",
      "50000/50000 [==============================] - 17s 332us/step - loss: 0.8980 - acc: 0.6807 - val_loss: 1.4048 - val_acc: 0.5414\n",
      "Epoch 10/100\n",
      "50000/50000 [==============================] - 16s 322us/step - loss: 0.8244 - acc: 0.7070 - val_loss: 1.4942 - val_acc: 0.5339\n",
      "Epoch 11/100\n",
      "50000/50000 [==============================] - 16s 322us/step - loss: 0.7655 - acc: 0.7268 - val_loss: 1.4892 - val_acc: 0.5444\n",
      "Epoch 12/100\n",
      "50000/50000 [==============================] - 16s 323us/step - loss: 0.6981 - acc: 0.7517 - val_loss: 1.5432 - val_acc: 0.5412\n",
      "Epoch 13/100\n",
      "50000/50000 [==============================] - 16s 324us/step - loss: 0.6387 - acc: 0.7724 - val_loss: 1.6138 - val_acc: 0.5368\n",
      "Epoch 14/100\n",
      "50000/50000 [==============================] - 16s 325us/step - loss: 0.5769 - acc: 0.7946 - val_loss: 1.6468 - val_acc: 0.5400\n",
      "Epoch 15/100\n",
      "50000/50000 [==============================] - 16s 324us/step - loss: 0.5361 - acc: 0.8090 - val_loss: 1.7366 - val_acc: 0.5280\n",
      "Epoch 16/100\n",
      "50000/50000 [==============================] - 16s 326us/step - loss: 0.4950 - acc: 0.8238 - val_loss: 1.8044 - val_acc: 0.5332\n",
      "Epoch 17/100\n",
      "50000/50000 [==============================] - 16s 323us/step - loss: 0.4417 - acc: 0.8441 - val_loss: 1.9006 - val_acc: 0.5322\n",
      "Epoch 18/100\n",
      "50000/50000 [==============================] - 16s 325us/step - loss: 0.3975 - acc: 0.8590 - val_loss: 2.0189 - val_acc: 0.5401\n",
      "Epoch 19/100\n",
      "50000/50000 [==============================] - 16s 324us/step - loss: 0.3720 - acc: 0.8675 - val_loss: 2.0570 - val_acc: 0.5432\n",
      "Epoch 20/100\n",
      "50000/50000 [==============================] - 16s 326us/step - loss: 0.3371 - acc: 0.8810 - val_loss: 2.2212 - val_acc: 0.5270\n",
      "Epoch 21/100\n",
      "50000/50000 [==============================] - 16s 325us/step - loss: 0.3141 - acc: 0.8892 - val_loss: 2.2619 - val_acc: 0.5352\n",
      "Epoch 22/100\n",
      "50000/50000 [==============================] - 16s 326us/step - loss: 0.2874 - acc: 0.8995 - val_loss: 2.3603 - val_acc: 0.5302\n",
      "Epoch 23/100\n",
      "50000/50000 [==============================] - 16s 329us/step - loss: 0.2731 - acc: 0.9040 - val_loss: 2.4453 - val_acc: 0.5337\n",
      "Epoch 24/100\n",
      "50000/50000 [==============================] - 16s 324us/step - loss: 0.2547 - acc: 0.9114 - val_loss: 2.4997 - val_acc: 0.5397\n",
      "Epoch 25/100\n",
      "50000/50000 [==============================] - 16s 324us/step - loss: 0.2262 - acc: 0.9215 - val_loss: 2.5938 - val_acc: 0.5272\n",
      "Epoch 26/100\n",
      "50000/50000 [==============================] - 16s 327us/step - loss: 0.2234 - acc: 0.9206 - val_loss: 2.6577 - val_acc: 0.5352\n",
      "Epoch 27/100\n",
      "50000/50000 [==============================] - 16s 325us/step - loss: 0.2110 - acc: 0.9275 - val_loss: 2.7028 - val_acc: 0.5330\n",
      "Epoch 28/100\n",
      "50000/50000 [==============================] - 16s 326us/step - loss: 0.1884 - acc: 0.9366 - val_loss: 2.7686 - val_acc: 0.5342\n",
      "Epoch 29/100\n",
      "50000/50000 [==============================] - 16s 326us/step - loss: 0.1993 - acc: 0.9310 - val_loss: 2.9049 - val_acc: 0.5282\n",
      "Epoch 30/100\n",
      "50000/50000 [==============================] - 16s 327us/step - loss: 0.1857 - acc: 0.9367 - val_loss: 2.8617 - val_acc: 0.5361\n",
      "Epoch 31/100\n",
      "50000/50000 [==============================] - 16s 318us/step - loss: 0.1565 - acc: 0.9459 - val_loss: 3.0431 - val_acc: 0.5310\n",
      "Epoch 32/100\n",
      "50000/50000 [==============================] - 16s 319us/step - loss: 0.1594 - acc: 0.9452 - val_loss: 3.0642 - val_acc: 0.5302\n",
      "Epoch 33/100\n",
      "50000/50000 [==============================] - 16s 317us/step - loss: 0.1449 - acc: 0.9506 - val_loss: 3.1202 - val_acc: 0.5263\n",
      "Epoch 34/100\n",
      "50000/50000 [==============================] - 16s 316us/step - loss: 0.1687 - acc: 0.9412 - val_loss: 3.0081 - val_acc: 0.5332\n",
      "Epoch 35/100\n",
      "50000/50000 [==============================] - 16s 317us/step - loss: 0.1365 - acc: 0.9535 - val_loss: 3.1545 - val_acc: 0.5278\n",
      "Epoch 36/100\n",
      "50000/50000 [==============================] - 16s 318us/step - loss: 0.1394 - acc: 0.9531 - val_loss: 3.1788 - val_acc: 0.5341\n",
      "Epoch 37/100\n",
      "50000/50000 [==============================] - 16s 317us/step - loss: 0.1298 - acc: 0.9561 - val_loss: 3.3096 - val_acc: 0.5332\n",
      "Epoch 38/100\n",
      "50000/50000 [==============================] - 16s 320us/step - loss: 0.1399 - acc: 0.9523 - val_loss: 3.1532 - val_acc: 0.5279\n",
      "Epoch 39/100\n",
      "50000/50000 [==============================] - 16s 317us/step - loss: 0.1457 - acc: 0.9510 - val_loss: 3.2148 - val_acc: 0.5395\n",
      "Epoch 40/100\n",
      "50000/50000 [==============================] - 16s 318us/step - loss: 0.1087 - acc: 0.9635 - val_loss: 3.2930 - val_acc: 0.5335\n",
      "Epoch 41/100\n",
      "50000/50000 [==============================] - 16s 316us/step - loss: 0.1226 - acc: 0.9597 - val_loss: 3.1714 - val_acc: 0.5248\n",
      "Epoch 42/100\n",
      "50000/50000 [==============================] - 16s 319us/step - loss: 0.1215 - acc: 0.9592 - val_loss: 3.5232 - val_acc: 0.5358\n",
      "Epoch 43/100\n",
      "50000/50000 [==============================] - 16s 317us/step - loss: 0.1265 - acc: 0.9581 - val_loss: 3.3021 - val_acc: 0.5257\n",
      "Epoch 44/100\n",
      "50000/50000 [==============================] - 16s 318us/step - loss: 0.1061 - acc: 0.9643 - val_loss: 3.4282 - val_acc: 0.5347\n",
      "Epoch 45/100\n"
     ]
    },
    {
     "name": "stdout",
     "output_type": "stream",
     "text": [
      "50000/50000 [==============================] - 15s 307us/step - loss: 0.1079 - acc: 0.9645 - val_loss: 3.4650 - val_acc: 0.5350\n",
      "Epoch 46/100\n",
      "50000/50000 [==============================] - 15s 308us/step - loss: 0.0879 - acc: 0.9699 - val_loss: 3.4900 - val_acc: 0.5369\n",
      "Epoch 47/100\n",
      "50000/50000 [==============================] - 15s 308us/step - loss: 0.1216 - acc: 0.9583 - val_loss: 3.3917 - val_acc: 0.5366\n",
      "Epoch 48/100\n",
      "50000/50000 [==============================] - 15s 306us/step - loss: 0.1137 - acc: 0.9625 - val_loss: 3.4388 - val_acc: 0.5329\n",
      "Epoch 49/100\n",
      "50000/50000 [==============================] - 16s 311us/step - loss: 0.1028 - acc: 0.9658 - val_loss: 3.5038 - val_acc: 0.5422\n",
      "Epoch 50/100\n",
      "50000/50000 [==============================] - 15s 306us/step - loss: 0.1091 - acc: 0.9640 - val_loss: 3.3785 - val_acc: 0.5338\n",
      "Epoch 51/100\n",
      "50000/50000 [==============================] - 15s 306us/step - loss: 0.0966 - acc: 0.9661 - val_loss: 3.4432 - val_acc: 0.5299\n",
      "Epoch 52/100\n",
      "50000/50000 [==============================] - 15s 308us/step - loss: 0.0947 - acc: 0.9684 - val_loss: 3.6339 - val_acc: 0.5364\n",
      "Epoch 53/100\n",
      "50000/50000 [==============================] - 15s 309us/step - loss: 0.0990 - acc: 0.9671 - val_loss: 3.5456 - val_acc: 0.5347\n",
      "Epoch 54/100\n",
      "50000/50000 [==============================] - 15s 308us/step - loss: 0.0569 - acc: 0.9818 - val_loss: 3.7314 - val_acc: 0.5280\n",
      "Epoch 55/100\n",
      "50000/50000 [==============================] - 15s 307us/step - loss: 0.1049 - acc: 0.9648 - val_loss: 3.6376 - val_acc: 0.5258\n",
      "Epoch 56/100\n",
      "50000/50000 [==============================] - 15s 307us/step - loss: 0.1132 - acc: 0.9630 - val_loss: 3.5802 - val_acc: 0.5320\n",
      "Epoch 57/100\n",
      "50000/50000 [==============================] - 15s 308us/step - loss: 0.0829 - acc: 0.9728 - val_loss: 3.5483 - val_acc: 0.5308\n",
      "Epoch 58/100\n",
      "50000/50000 [==============================] - 15s 307us/step - loss: 0.0784 - acc: 0.9748 - val_loss: 3.6575 - val_acc: 0.5265\n",
      "Epoch 59/100\n",
      "50000/50000 [==============================] - 15s 308us/step - loss: 0.1025 - acc: 0.9663 - val_loss: 3.6006 - val_acc: 0.5338\n",
      "Epoch 60/100\n",
      "50000/50000 [==============================] - 15s 307us/step - loss: 0.0858 - acc: 0.9718 - val_loss: 3.6269 - val_acc: 0.5323\n",
      "Epoch 61/100\n",
      "50000/50000 [==============================] - 15s 310us/step - loss: 0.0614 - acc: 0.9795 - val_loss: 3.6531 - val_acc: 0.5372\n",
      "Epoch 62/100\n",
      "50000/50000 [==============================] - 15s 308us/step - loss: 0.0792 - acc: 0.9739 - val_loss: 3.7643 - val_acc: 0.5292\n",
      "Epoch 63/100\n",
      "50000/50000 [==============================] - 15s 307us/step - loss: 0.0765 - acc: 0.9748 - val_loss: 3.6926 - val_acc: 0.5344\n",
      "Epoch 64/100\n",
      "50000/50000 [==============================] - 15s 307us/step - loss: 0.0876 - acc: 0.9713 - val_loss: 3.6675 - val_acc: 0.5385\n",
      "Epoch 65/100\n",
      "50000/50000 [==============================] - 15s 307us/step - loss: 0.1007 - acc: 0.9667 - val_loss: 3.5851 - val_acc: 0.5333\n",
      "Epoch 66/100\n",
      "50000/50000 [==============================] - 15s 307us/step - loss: 0.0748 - acc: 0.9759 - val_loss: 3.6489 - val_acc: 0.5308\n",
      "Epoch 67/100\n",
      "50000/50000 [==============================] - 16s 311us/step - loss: 0.0741 - acc: 0.9757 - val_loss: 3.7260 - val_acc: 0.5328\n",
      "Epoch 68/100\n",
      "50000/50000 [==============================] - 15s 308us/step - loss: 0.0795 - acc: 0.9740 - val_loss: 3.6893 - val_acc: 0.5289\n",
      "Epoch 69/100\n",
      "50000/50000 [==============================] - 15s 310us/step - loss: 0.0770 - acc: 0.9746 - val_loss: 3.6639 - val_acc: 0.5375\n",
      "Epoch 70/100\n",
      "50000/50000 [==============================] - 15s 309us/step - loss: 0.0941 - acc: 0.9690 - val_loss: 3.6096 - val_acc: 0.5281\n",
      "Epoch 71/100\n",
      "50000/50000 [==============================] - 15s 309us/step - loss: 0.0504 - acc: 0.9834 - val_loss: 3.8106 - val_acc: 0.5390\n",
      "Epoch 72/100\n",
      "50000/50000 [==============================] - 15s 308us/step - loss: 0.0469 - acc: 0.9849 - val_loss: 3.8124 - val_acc: 0.5308\n",
      "Epoch 73/100\n",
      "50000/50000 [==============================] - 15s 309us/step - loss: 0.0824 - acc: 0.9733 - val_loss: 3.8052 - val_acc: 0.5340\n",
      "Epoch 74/100\n",
      "50000/50000 [==============================] - 15s 308us/step - loss: 0.1027 - acc: 0.9676 - val_loss: 3.6156 - val_acc: 0.5300\n",
      "Epoch 75/100\n",
      "50000/50000 [==============================] - 15s 308us/step - loss: 0.0461 - acc: 0.9853 - val_loss: 3.8570 - val_acc: 0.5320\n",
      "Epoch 76/100\n",
      "50000/50000 [==============================] - 15s 308us/step - loss: 0.0706 - acc: 0.9768 - val_loss: 3.8032 - val_acc: 0.5357\n",
      "Epoch 77/100\n",
      "50000/50000 [==============================] - 16s 311us/step - loss: 0.0658 - acc: 0.9784 - val_loss: 3.8375 - val_acc: 0.5391\n",
      "Epoch 78/100\n",
      "50000/50000 [==============================] - 15s 308us/step - loss: 0.0603 - acc: 0.9805 - val_loss: 3.7782 - val_acc: 0.5333\n",
      "Epoch 79/100\n",
      "50000/50000 [==============================] - 15s 308us/step - loss: 0.0611 - acc: 0.9800 - val_loss: 3.7315 - val_acc: 0.5374\n",
      "Epoch 80/100\n",
      "50000/50000 [==============================] - 15s 308us/step - loss: 0.0786 - acc: 0.9747 - val_loss: 3.6943 - val_acc: 0.5268\n",
      "Epoch 81/100\n",
      "50000/50000 [==============================] - 16s 310us/step - loss: 0.0653 - acc: 0.9781 - val_loss: 3.8201 - val_acc: 0.5387\n",
      "Epoch 82/100\n",
      "50000/50000 [==============================] - 15s 310us/step - loss: 0.0693 - acc: 0.9774 - val_loss: 3.7511 - val_acc: 0.5389\n",
      "Epoch 83/100\n",
      "50000/50000 [==============================] - 15s 309us/step - loss: 0.0778 - acc: 0.9744 - val_loss: 3.6132 - val_acc: 0.5347\n",
      "Epoch 84/100\n",
      "50000/50000 [==============================] - 15s 309us/step - loss: 0.0606 - acc: 0.9809 - val_loss: 3.7746 - val_acc: 0.5295\n",
      "Epoch 85/100\n",
      "50000/50000 [==============================] - 16s 310us/step - loss: 0.0497 - acc: 0.9844 - val_loss: 3.8928 - val_acc: 0.5305\n",
      "Epoch 86/100\n",
      "50000/50000 [==============================] - 16s 316us/step - loss: 0.0584 - acc: 0.9808 - val_loss: 3.8845 - val_acc: 0.5404\n",
      "Epoch 87/100\n",
      "50000/50000 [==============================] - 17s 336us/step - loss: 0.0631 - acc: 0.9790 - val_loss: 3.8423 - val_acc: 0.5313\n",
      "Epoch 88/100\n",
      "50000/50000 [==============================] - 16s 321us/step - loss: 0.0723 - acc: 0.9770 - val_loss: 3.7146 - val_acc: 0.5348\n",
      "Epoch 89/100\n",
      "50000/50000 [==============================] - 16s 322us/step - loss: 0.0633 - acc: 0.9799 - val_loss: 3.8556 - val_acc: 0.5256\n",
      "Epoch 90/100\n",
      "50000/50000 [==============================] - 16s 323us/step - loss: 0.0699 - acc: 0.9770 - val_loss: 3.7265 - val_acc: 0.5403\n",
      "Epoch 91/100\n",
      "50000/50000 [==============================] - 16s 325us/step - loss: 0.0406 - acc: 0.9866 - val_loss: 3.9700 - val_acc: 0.5413\n",
      "Epoch 92/100\n",
      "50000/50000 [==============================] - 16s 327us/step - loss: 0.0529 - acc: 0.9827 - val_loss: 3.9449 - val_acc: 0.5350\n",
      "Epoch 93/100\n",
      "50000/50000 [==============================] - 17s 347us/step - loss: 0.0572 - acc: 0.9814 - val_loss: 3.8673 - val_acc: 0.5378\n",
      "Epoch 94/100\n",
      "50000/50000 [==============================] - 17s 349us/step - loss: 0.0549 - acc: 0.9823 - val_loss: 3.9498 - val_acc: 0.5344\n",
      "Epoch 95/100\n",
      "50000/50000 [==============================] - 16s 326us/step - loss: 0.0691 - acc: 0.9781 - val_loss: 3.8330 - val_acc: 0.5295\n",
      "Epoch 96/100\n",
      "50000/50000 [==============================] - 16s 327us/step - loss: 0.0489 - acc: 0.9837 - val_loss: 3.9457 - val_acc: 0.5348\n",
      "Epoch 97/100\n",
      "50000/50000 [==============================] - 16s 328us/step - loss: 0.0659 - acc: 0.9798 - val_loss: 3.8327 - val_acc: 0.5273\n",
      "Epoch 98/100\n",
      "50000/50000 [==============================] - 16s 329us/step - loss: 0.0584 - acc: 0.9816 - val_loss: 3.8847 - val_acc: 0.5294\n",
      "Epoch 99/100\n",
      "50000/50000 [==============================] - 17s 332us/step - loss: 0.0695 - acc: 0.9778 - val_loss: 3.8947 - val_acc: 0.5296\n",
      "Epoch 100/100\n",
      "50000/50000 [==============================] - 16s 328us/step - loss: 0.0606 - acc: 0.9812 - val_loss: 3.8748 - val_acc: 0.5390\n"
     ]
    },
    {
     "data": {
      "text/plain": [
       "<keras.callbacks.History at 0x6550099d0>"
      ]
     },
     "execution_count": 9,
     "metadata": {},
     "output_type": "execute_result"
    }
   ],
   "source": [
    "model.fit(x_train, y_train, \n",
    "          epochs=EPOCHS, \n",
    "          batch_size=BATCH_SIZE, \n",
    "          validation_data=(x_test, y_test), \n",
    "          shuffle=True)"
   ]
  },
  {
   "cell_type": "code",
   "execution_count": 10,
   "metadata": {},
   "outputs": [
    {
     "data": {
      "image/png": "[encoded data removed]",
      "text/plain": [
       "<Figure size 432x288 with 1 Axes>"
      ]
     },
     "metadata": {
      "needs_background": "light"
     },
     "output_type": "display_data"
    },
    {
     "data": {
      "image/png": "[encoded data removed]",
      "text/plain": [
       "<Figure size 432x288 with 1 Axes>"
      ]
     },
     "metadata": {
      "needs_background": "light"
     },
     "output_type": "display_data"
    }
   ],
   "source": [
    "import matplotlib.pyplot as plt\n",
    "\n",
    "\n",
    "train_loss = model.history.history[\"loss\"]\n",
    "valid_loss = model.history.history[\"val_loss\"]\n",
    "\n",
    "train_acc = model.history.history[\"acc\"]\n",
    "valid_acc = model.history.history[\"val_acc\"]\n",
    "\n",
    "plt.plot(range(len(train_loss)), train_loss, label=\"train loss\")\n",
    "plt.plot(range(len(valid_loss)), valid_loss, label=\"valid loss\")\n",
    "plt.legend()\n",
    "plt.title(\"Loss\")\n",
    "plt.show()\n",
    "\n",
    "plt.plot(range(len(train_acc)), train_acc, label=\"train accuracy\")\n",
    "plt.plot(range(len(valid_acc)), valid_acc, label=\"valid accuracy\")\n",
    "plt.legend()\n",
    "plt.title(\"Accuracy\")\n",
    "plt.show()"
   ]
  }
 ],
 "metadata": {
  "kernelspec": {
   "display_name": "Python 3",
   "language": "python",
   "name": "python3"
  },
  "language_info": {
   "codemirror_mode": {
    "name": "ipython",
    "version": 3
   },
   "file_extension": ".py",
   "mimetype": "text/x-python",
   "name": "python",
   "nbconvert_exporter": "python",
   "pygments_lexer": "ipython3",
   "version": "3.7.5"
  }
 },
 "nbformat": 4,
 "nbformat_minor": 2
}
