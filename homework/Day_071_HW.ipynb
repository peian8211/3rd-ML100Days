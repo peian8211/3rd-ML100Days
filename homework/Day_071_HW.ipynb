{
 "cells": [
  {
   "cell_type": "markdown",
   "metadata": {
    "colab_type": "text",
    "id": "cj4tE8e8iUtO"
   },
   "source": [
    "#   \n",
    "\n",
    "# 作業目標:\n",
    "\n",
    "    1. 藉由固定的 dataset, 來驗證不同loss function\n",
    "    2. Dataset 的特性跟我們選用的loss function 對accrancy 的影響\n",
    "    \n",
    "    \n",
    "# 作業重點: \n",
    "    請分別選用 \"MSE\", \"binary _crossentropy\"\n",
    "    查看Train/test accurancy and loss rate\n",
    "    "
   ]
  },
  {
   "cell_type": "markdown",
   "metadata": {
    "colab_type": "text",
    "id": "R51J4KyyiUsL"
   },
   "source": [
    "# 導入必要的函數"
   ]
  },
  {
   "cell_type": "code",
   "execution_count": 1,
   "metadata": {
    "colab": {},
    "colab_type": "code",
    "id": "Qd68OQjciUsM"
   },
   "outputs": [
    {
     "name": "stderr",
     "output_type": "stream",
     "text": [
      "Using TensorFlow backend.\n"
     ]
    }
   ],
   "source": [
    "from keras.utils import np_utils\n",
    "import numpy as np\n",
    "np.random.seed(10)"
   ]
  },
  {
   "cell_type": "markdown",
   "metadata": {
    "colab_type": "text",
    "id": "GxKuzQLQiUsP"
   },
   "source": [
    "# 資料準備"
   ]
  },
  {
   "cell_type": "code",
   "execution_count": 2,
   "metadata": {
    "colab": {},
    "colab_type": "code",
    "id": "MIbFZdTCiUsQ"
   },
   "outputs": [],
   "source": [
    "#載入手寫辨識的資料集\n",
    "from keras.datasets import mnist\n",
    "(x_train_image,y_train_label),\\\n",
    "(x_test_image,y_test_label)= mnist.load_data()"
   ]
  },
  {
   "cell_type": "code",
   "execution_count": 3,
   "metadata": {
    "colab": {},
    "colab_type": "code",
    "id": "J8CJVjNOiUsS"
   },
   "outputs": [],
   "source": [
    "#指定測試集與訓練資料集\n",
    "x_Train =x_train_image.reshape(60000, 784).astype('float32')\n",
    "x_Test = x_test_image.reshape(10000, 784).astype('float32')"
   ]
  },
  {
   "cell_type": "code",
   "execution_count": 4,
   "metadata": {
    "colab": {},
    "colab_type": "code",
    "id": "V3P6P4DXiUsV"
   },
   "outputs": [],
   "source": [
    "# normalize inputs from 0-255 to 0-1\n",
    "x_Train_normalize = x_Train / 255\n",
    "x_Test_normalize = x_Test / 255"
   ]
  },
  {
   "cell_type": "code",
   "execution_count": 5,
   "metadata": {
    "colab": {},
    "colab_type": "code",
    "id": "vsDyjKYliUsX"
   },
   "outputs": [],
   "source": [
    "#把LABEL轉成NUMERICAL Categorical \n",
    "y_Train_OneHot = np_utils.to_categorical(y_train_label)\n",
    "y_Test_OneHot = np_utils.to_categorical(y_test_label)"
   ]
  },
  {
   "cell_type": "markdown",
   "metadata": {
    "colab_type": "text",
    "id": "RutW2OtgiUsZ"
   },
   "source": [
    "# 建立模型"
   ]
  },
  {
   "cell_type": "code",
   "execution_count": 6,
   "metadata": {
    "colab": {},
    "colab_type": "code",
    "id": "aHz592aXiUsa"
   },
   "outputs": [],
   "source": [
    "from keras.models import Sequential\n",
    "from keras.layers import Dense"
   ]
  },
  {
   "cell_type": "code",
   "execution_count": 7,
   "metadata": {
    "colab": {},
    "colab_type": "code",
    "id": "hslqrIp0iUse"
   },
   "outputs": [],
   "source": [
    "model = Sequential()\n",
    "#建構輸入層\n",
    "model.add(Dense(units=256, \n",
    "                input_dim=784, \n",
    "                kernel_initializer='normal', \n",
    "                activation='relu'))\n",
    "#建構輸出層\n",
    "model.add(Dense(units=10, \n",
    "                kernel_initializer='normal', \n",
    "                activation='softmax'))"
   ]
  },
  {
   "cell_type": "code",
   "execution_count": 8,
   "metadata": {
    "colab": {},
    "colab_type": "code",
    "id": "Hqe35hs2iUsi"
   },
   "outputs": [
    {
     "name": "stdout",
     "output_type": "stream",
     "text": [
      "Model: \"sequential_1\"\n",
      "_________________________________________________________________\n",
      "Layer (type)                 Output Shape              Param #   \n",
      "=================================================================\n",
      "dense_1 (Dense)              (None, 256)               200960    \n",
      "_________________________________________________________________\n",
      "dense_2 (Dense)              (None, 10)                2570      \n",
      "=================================================================\n",
      "Total params: 203,530\n",
      "Trainable params: 203,530\n",
      "Non-trainable params: 0\n",
      "_________________________________________________________________\n",
      "None\n"
     ]
    }
   ],
   "source": [
    "print(model.summary())"
   ]
  },
  {
   "cell_type": "markdown",
   "metadata": {
    "colab_type": "text",
    "id": "qBbCuziziUtM"
   },
   "source": [
    "# 訓練模型"
   ]
  },
  {
   "cell_type": "code",
   "execution_count": 9,
   "metadata": {
    "colab": {},
    "colab_type": "code",
    "id": "Q6BiBcseiUtP"
   },
   "outputs": [],
   "source": [
    "model.compile(loss='mse', \n",
    "              optimizer='adam', metrics=['accuracy'])"
   ]
  },
  {
   "cell_type": "code",
   "execution_count": 10,
   "metadata": {
    "colab": {},
    "colab_type": "code",
    "id": "4-GdDgmQiUtS"
   },
   "outputs": [
    {
     "name": "stdout",
     "output_type": "stream",
     "text": [
      "Train on 48000 samples, validate on 12000 samples\n",
      "Epoch 1/10\n",
      "48000/48000 [==============================] - 18s 382us/step - loss: 0.0124 - accuracy: 0.9209 - val_loss: 0.0064 - val_accuracy: 0.9593\n",
      "Epoch 2/10\n",
      "48000/48000 [==============================] - 17s 354us/step - loss: 0.0056 - accuracy: 0.9649 - val_loss: 0.0047 - val_accuracy: 0.9704\n",
      "Epoch 3/10\n",
      "48000/48000 [==============================] - 17s 356us/step - loss: 0.0039 - accuracy: 0.9758 - val_loss: 0.0048 - val_accuracy: 0.9683\n",
      "Epoch 4/10\n",
      "48000/48000 [==============================] - 17s 356us/step - loss: 0.0031 - accuracy: 0.9813 - val_loss: 0.0040 - val_accuracy: 0.9741\n",
      "Epoch 5/10\n",
      "48000/48000 [==============================] - 17s 357us/step - loss: 0.0025 - accuracy: 0.9846 - val_loss: 0.0038 - val_accuracy: 0.9754\n",
      "Epoch 6/10\n",
      "48000/48000 [==============================] - 19s 386us/step - loss: 0.0020 - accuracy: 0.9879 - val_loss: 0.0036 - val_accuracy: 0.9775\n",
      "Epoch 7/10\n",
      "48000/48000 [==============================] - 18s 385us/step - loss: 0.0017 - accuracy: 0.9897 - val_loss: 0.0039 - val_accuracy: 0.9743\n",
      "Epoch 8/10\n",
      "48000/48000 [==============================] - 18s 382us/step - loss: 0.0014 - accuracy: 0.9915 - val_loss: 0.0035 - val_accuracy: 0.9775\n",
      "Epoch 9/10\n",
      "48000/48000 [==============================] - 21s 430us/step - loss: 0.0013 - accuracy: 0.9918 - val_loss: 0.0041 - val_accuracy: 0.9736\n",
      "Epoch 10/10\n",
      "48000/48000 [==============================] - 21s 428us/step - loss: 0.0012 - accuracy: 0.9933 - val_loss: 0.0036 - val_accuracy: 0.9769\n"
     ]
    }
   ],
   "source": [
    "train_history =model.fit(x=x_Train_normalize,\n",
    "                         y=y_Train_OneHot,validation_split=0.2, \n",
    "                         epochs=10, batch_size=32,verbose=1)\n"
   ]
  },
  {
   "cell_type": "code",
   "execution_count": 11,
   "metadata": {
    "scrolled": true
   },
   "outputs": [
    {
     "name": "stdout",
     "output_type": "stream",
     "text": [
      "10000/10000 [==============================] - 2s 234us/step\n",
      "\n",
      "accuracy= 0.9790999889373779\n"
     ]
    }
   ],
   "source": [
    "scores = model.evaluate(x_Test_normalize, y_Test_OneHot)\n",
    "print()\n",
    "print('accuracy=',scores[1])"
   ]
  },
  {
   "cell_type": "code",
   "execution_count": 13,
   "metadata": {},
   "outputs": [],
   "source": [
    "model.compile(loss='binary_crossentropy', \n",
    "              optimizer='adam', metrics=['accuracy'])"
   ]
  },
  {
   "cell_type": "code",
   "execution_count": 14,
   "metadata": {},
   "outputs": [
    {
     "name": "stdout",
     "output_type": "stream",
     "text": [
      "Train on 48000 samples, validate on 12000 samples\n",
      "Epoch 1/10\n",
      "48000/48000 [==============================] - 19s 388us/step - loss: 0.0053 - accuracy: 0.9988 - val_loss: 0.0150 - val_accuracy: 0.9954\n",
      "Epoch 2/10\n",
      "48000/48000 [==============================] - 15s 323us/step - loss: 0.0040 - accuracy: 0.9989 - val_loss: 0.0152 - val_accuracy: 0.9953\n",
      "Epoch 3/10\n",
      "48000/48000 [==============================] - 16s 335us/step - loss: 0.0026 - accuracy: 0.9992 - val_loss: 0.0153 - val_accuracy: 0.9955\n",
      "Epoch 4/10\n",
      "48000/48000 [==============================] - 16s 337us/step - loss: 0.0022 - accuracy: 0.9994 - val_loss: 0.0142 - val_accuracy: 0.9961\n",
      "Epoch 5/10\n",
      "48000/48000 [==============================] - 16s 337us/step - loss: 0.0017 - accuracy: 0.9995 - val_loss: 0.0165 - val_accuracy: 0.9957\n",
      "Epoch 6/10\n",
      "48000/48000 [==============================] - 16s 337us/step - loss: 0.0015 - accuracy: 0.9996 - val_loss: 0.0177 - val_accuracy: 0.9954\n",
      "Epoch 7/10\n",
      "48000/48000 [==============================] - 16s 341us/step - loss: 0.0013 - accuracy: 0.9996 - val_loss: 0.0173 - val_accuracy: 0.9956\n",
      "Epoch 8/10\n",
      "48000/48000 [==============================] - 16s 335us/step - loss: 0.0013 - accuracy: 0.9996 - val_loss: 0.0196 - val_accuracy: 0.9954\n",
      "Epoch 9/10\n",
      "48000/48000 [==============================] - 16s 334us/step - loss: 0.0012 - accuracy: 0.9996 - val_loss: 0.0186 - val_accuracy: 0.9956\n",
      "Epoch 10/10\n",
      "48000/48000 [==============================] - 16s 333us/step - loss: 7.3028e-04 - accuracy: 0.9998 - val_loss: 0.0174 - val_accuracy: 0.9961\n"
     ]
    }
   ],
   "source": [
    "train_history =model.fit(x=x_Train_normalize,\n",
    "                         y=y_Train_OneHot,validation_split=0.2, \n",
    "                         epochs=10, batch_size=32,verbose=1)"
   ]
  },
  {
   "cell_type": "code",
   "execution_count": 15,
   "metadata": {},
   "outputs": [
    {
     "name": "stdout",
     "output_type": "stream",
     "text": [
      "10000/10000 [==============================] - 1s 66us/step\n",
      "\n",
      "accuracy= 0.9967196583747864\n"
     ]
    }
   ],
   "source": [
    "scores = model.evaluate(x_Test_normalize, y_Test_OneHot)\n",
    "print()\n",
    "print('accuracy=',scores[1])"
   ]
  }
 ],
 "metadata": {
  "colab": {
   "name": "Day71-使用損失函數_HW.ipynb",
   "provenance": [],
   "version": "0.3.2"
  },
  "kernelspec": {
   "display_name": "Python 3",
   "language": "python",
   "name": "python3"
  },
  "language_info": {
   "codemirror_mode": {
    "name": "ipython",
    "version": 3
   },
   "file_extension": ".py",
   "mimetype": "text/x-python",
   "name": "python",
   "nbconvert_exporter": "python",
   "pygments_lexer": "ipython3",
   "version": "3.7.3"
  }
 },
 "nbformat": 4,
 "nbformat_minor": 1
}
