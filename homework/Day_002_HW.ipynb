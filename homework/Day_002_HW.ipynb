{
 "cells": [
  {
   "cell_type": "markdown",
   "metadata": {},
   "source": [
    "# 作業：\n",
    "請找出一個你認為機器學習可以發光發熱的領域並闡述原因"
   ]
  },
  {
   "cell_type": "markdown",
   "metadata": {},
   "source": [
    "醫療領域，目前在機器學習中的深度學習以影像辨識發展最為迅速，在2017年Google研究團隊彭浩怡即發布以深度學習快速判讀視網膜上細微的血管瘤位置，能夠提早發現糖尿病性視網膜病變，能夠即時或預防性讓患者進入治療階段。而在全球十大死因中，位居第二的癌症時至今日仍然是令人聞之色變的一項疾病，平均每6個人有1人死於癌症，癌症醫療始終是人們的焦點。另外，Google與醫療團隊IHC醫療實證結果顯示，以深度學習搭配專業醫生診斷，診測到癌細胞機率約為92%，而若只以醫生判讀的話，僅有73%的機率診測到癌細胞。而近幾年相關的機器學習應用於醫療領域實證研究亦不斷有突破性的進展，因此未來機器學習於臨床應用更是無可限量。\n",
    "\n",
    "參考資料  \n",
    "1.[用機器學習辨識癌細胞與病變！Google：台灣有很強的先天優勢](https://www.ettoday.net/news/20170808/984300.htm)  \n",
    "2.[全球十大死亡原因 「頭號殺手」是什麼](https://www.bbc.com/zhongwen/trad/world-47474256)"
   ]
  }
 ],
 "metadata": {
  "kernelspec": {
   "display_name": "Python 3",
   "language": "python",
   "name": "python3"
  },
  "language_info": {
   "codemirror_mode": {
    "name": "ipython",
    "version": 3
   },
   "file_extension": ".py",
   "mimetype": "text/x-python",
   "name": "python",
   "nbconvert_exporter": "python",
   "pygments_lexer": "ipython3",
   "version": "3.7.3"
  }
 },
 "nbformat": 4,
 "nbformat_minor": 2
}
